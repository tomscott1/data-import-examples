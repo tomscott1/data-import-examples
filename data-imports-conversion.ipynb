{
 "cells": [
  {
   "cell_type": "code",
   "execution_count": 1,
   "metadata": {
    "collapsed": true
   },
   "outputs": [],
   "source": [
    "import pandas as pd"
   ]
  },
  {
   "cell_type": "code",
   "execution_count": 10,
   "metadata": {
    "collapsed": false
   },
   "outputs": [],
   "source": [
    "# read raw files into dataframes\n",
    "df1 = pd.read_csv('Fuel_Rebate_001_242.txt')\n",
    "df2 = pd.read_csv('Fuel_Rebate_243_274.txt')\n",
    "df3 = pd.read_csv('Fuel_Rebate_275_289.txt')"
   ]
  },
  {
   "cell_type": "code",
   "execution_count": 12,
   "metadata": {
    "collapsed": true
   },
   "outputs": [],
   "source": [
    "# remove unnecessary columns\n",
    "df1.drop(df1.columns[[ 0, 1, 5, 7, 8, 12]], axis=1, inplace=True)\n",
    "df2.drop(df2.columns[[ 0, 1, 5, 7, 8, 12]], axis=1, inplace=True)\n",
    "df3.drop(df3.columns[[ 0, 1, 5, 7, 8, 12]], axis=1, inplace=True)\n",
    "# keep columns 2,3,4,6,9,10,11"
   ]
  },
  {
   "cell_type": "code",
   "execution_count": 14,
   "metadata": {
    "collapsed": true
   },
   "outputs": [],
   "source": [
    "# rename columns\n",
    "df1.rename(columns={'Speed': 'Speed_Kms', 'Signal_Strength_3g': 'Odometer', 'Time_Recd':'Device Timestamp', 'ID': 'Unique Vehicle Identifier'}, inplace=True)\n",
    "df2.rename(columns={'Speed': 'Speed_Kms', 'Signal_Strength_3g': 'Odometer', 'Time_Recd':'Device Timestamp', 'ID': 'Unique Vehicle Identifier'}, inplace=True)\n",
    "df3.rename(columns={'Speed': 'Speed_Kms', 'Signal_Strength_3g': 'Odometer', 'Time_Recd':'Device Timestamp', 'ID': 'Unique Vehicle Identifier'}, inplace=True)"
   ]
  },
  {
   "cell_type": "code",
   "execution_count": 16,
   "metadata": {
    "collapsed": true
   },
   "outputs": [],
   "source": [
    "# remove NaN's\n",
    "df1[['Speed_Kms', 'Odometer', 'Heading']]=0\n",
    "df2[['Speed_Kms', 'Odometer', 'Heading']]=0\n",
    "df3[['Speed_Kms', 'Odometer', 'Heading']]=0"
   ]
  },
  {
   "cell_type": "code",
   "execution_count": 18,
   "metadata": {
    "collapsed": true
   },
   "outputs": [],
   "source": [
    "# Convert timestamp to include T\n",
    "df1['Device Timestamp'] = df1['Device Timestamp'].str.replace(' ','T')\n",
    "df2['Device Timestamp'] = df2['Device Timestamp'].str.replace(' ','T')\n",
    "df3['Device Timestamp'] = df3['Device Timestamp'].str.replace(' ','T')"
   ]
  },
  {
   "cell_type": "code",
   "execution_count": 20,
   "metadata": {
    "collapsed": true
   },
   "outputs": [],
   "source": [
    "# append all dataframes into one\n",
    "output = df1.append([df2, df3], ignore_index=True)"
   ]
  },
  {
   "cell_type": "code",
   "execution_count": 21,
   "metadata": {
    "collapsed": true
   },
   "outputs": [],
   "source": [
    "# write to output.csv\n",
    "output.to_csv('stjohns-ambulance.csv', index=False)"
   ]
  },
  {
   "cell_type": "code",
   "execution_count": null,
   "metadata": {
    "collapsed": true
   },
   "outputs": [],
   "source": []
  }
 ],
 "metadata": {
  "kernelspec": {
   "display_name": "Python 2",
   "language": "python",
   "name": "python2"
  },
  "language_info": {
   "codemirror_mode": {
    "name": "ipython",
    "version": 2
   },
   "file_extension": ".py",
   "mimetype": "text/x-python",
   "name": "python",
   "nbconvert_exporter": "python",
   "pygments_lexer": "ipython2",
   "version": "2.7.12"
  }
 },
 "nbformat": 4,
 "nbformat_minor": 2
}
