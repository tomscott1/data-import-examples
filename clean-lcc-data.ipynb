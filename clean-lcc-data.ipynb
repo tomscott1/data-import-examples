{
 "cells": [
  {
   "cell_type": "code",
   "execution_count": 1,
   "metadata": {
    "collapsed": true
   },
   "outputs": [],
   "source": [
    "import pandas as pd"
   ]
  },
  {
   "cell_type": "code",
   "execution_count": 14,
   "metadata": {
    "collapsed": false
   },
   "outputs": [],
   "source": [
    "df = pd.read_csv('lcc-data.csv', parse_dates=['device_timestamp'], dayfirst=True)"
   ]
  },
  {
   "cell_type": "code",
   "execution_count": 21,
   "metadata": {
    "collapsed": false
   },
   "outputs": [
    {
     "data": {
      "text/html": [
       "<div>\n",
       "<table border=\"1\" class=\"dataframe\">\n",
       "  <thead>\n",
       "    <tr style=\"text-align: right;\">\n",
       "      <th></th>\n",
       "      <th>Unique Vehicle Identifier</th>\n",
       "      <th>Latitude</th>\n",
       "      <th>Longitude</th>\n",
       "      <th>Speed_kms</th>\n",
       "      <th>Heading</th>\n",
       "      <th>Device Timestamp</th>\n",
       "      <th>Odometer</th>\n",
       "    </tr>\n",
       "  </thead>\n",
       "  <tbody>\n",
       "    <tr>\n",
       "      <th>0</th>\n",
       "      <td>1541643250673</td>\n",
       "      <td>-27.686224</td>\n",
       "      <td>153.105490</td>\n",
       "      <td>0.29</td>\n",
       "      <td>9</td>\n",
       "      <td>2017-02-28T13:27:30</td>\n",
       "      <td>0</td>\n",
       "    </tr>\n",
       "    <tr>\n",
       "      <th>1</th>\n",
       "      <td>1541662065000</td>\n",
       "      <td>-27.691505</td>\n",
       "      <td>153.178209</td>\n",
       "      <td>2.70</td>\n",
       "      <td>190</td>\n",
       "      <td>2017-02-28T18:41:05</td>\n",
       "      <td>0</td>\n",
       "    </tr>\n",
       "    <tr>\n",
       "      <th>2</th>\n",
       "      <td>1541644980720</td>\n",
       "      <td>-27.653816</td>\n",
       "      <td>153.139526</td>\n",
       "      <td>0.18</td>\n",
       "      <td>108</td>\n",
       "      <td>2017-02-28T13:56:20</td>\n",
       "      <td>0</td>\n",
       "    </tr>\n",
       "    <tr>\n",
       "      <th>3</th>\n",
       "      <td>1541662073000</td>\n",
       "      <td>-27.691412</td>\n",
       "      <td>153.178236</td>\n",
       "      <td>12.38</td>\n",
       "      <td>11</td>\n",
       "      <td>2017-02-28T18:41:13</td>\n",
       "      <td>0</td>\n",
       "    </tr>\n",
       "    <tr>\n",
       "      <th>4</th>\n",
       "      <td>1541662133000</td>\n",
       "      <td>-27.686494</td>\n",
       "      <td>153.179139</td>\n",
       "      <td>46.69</td>\n",
       "      <td>4</td>\n",
       "      <td>2017-02-28T18:42:13</td>\n",
       "      <td>0</td>\n",
       "    </tr>\n",
       "  </tbody>\n",
       "</table>\n",
       "</div>"
      ],
      "text/plain": [
       "   Unique Vehicle Identifier   Latitude   Longitude  Speed_kms  Heading  \\\n",
       "0              1541643250673 -27.686224  153.105490       0.29        9   \n",
       "1              1541662065000 -27.691505  153.178209       2.70      190   \n",
       "2              1541644980720 -27.653816  153.139526       0.18      108   \n",
       "3              1541662073000 -27.691412  153.178236      12.38       11   \n",
       "4              1541662133000 -27.686494  153.179139      46.69        4   \n",
       "\n",
       "      Device Timestamp  Odometer  \n",
       "0  2017-02-28T13:27:30         0  \n",
       "1  2017-02-28T18:41:05         0  \n",
       "2  2017-02-28T13:56:20         0  \n",
       "3  2017-02-28T18:41:13         0  \n",
       "4  2017-02-28T18:42:13         0  "
      ]
     },
     "execution_count": 21,
     "metadata": {},
     "output_type": "execute_result"
    }
   ],
   "source": [
    "df.head()"
   ]
  },
  {
   "cell_type": "code",
   "execution_count": 16,
   "metadata": {
    "collapsed": false
   },
   "outputs": [],
   "source": [
    "# remove unnecessary columns\n",
    "df.drop(df.columns[[5,6,8,9,10,11]], axis=1, inplace=True)"
   ]
  },
  {
   "cell_type": "code",
   "execution_count": 17,
   "metadata": {
    "collapsed": true
   },
   "outputs": [],
   "source": [
    "# rename columns\n",
    "df.rename(columns={'id': 'Unique Vehicle Identifier', 'latitude': 'Latitude', 'longitude': 'Longitude', 'speed_km': 'Speed_kms', 'heading': 'Heading', 'device_timestamp': 'Device Timestamp'}, inplace=True)"
   ]
  },
  {
   "cell_type": "code",
   "execution_count": 18,
   "metadata": {
    "collapsed": true
   },
   "outputs": [],
   "source": [
    "# create odometer column\n",
    "df['Odometer'] = 0"
   ]
  },
  {
   "cell_type": "code",
   "execution_count": 20,
   "metadata": {
    "collapsed": false
   },
   "outputs": [],
   "source": [
    "# convert timestamp to include 'T'\n",
    "df['Device Timestamp'] = df['Device Timestamp'].astype(str).str.replace(' ','T')"
   ]
  },
  {
   "cell_type": "code",
   "execution_count": 22,
   "metadata": {
    "collapsed": true
   },
   "outputs": [],
   "source": [
    "# write out\n",
    "df.to_csv('lcc-clean.csv')"
   ]
  },
  {
   "cell_type": "code",
   "execution_count": null,
   "metadata": {
    "collapsed": true
   },
   "outputs": [],
   "source": []
  }
 ],
 "metadata": {
  "kernelspec": {
   "display_name": "Python 2",
   "language": "python",
   "name": "python2"
  },
  "language_info": {
   "codemirror_mode": {
    "name": "ipython",
    "version": 2
   },
   "file_extension": ".py",
   "mimetype": "text/x-python",
   "name": "python",
   "nbconvert_exporter": "python",
   "pygments_lexer": "ipython2",
   "version": "2.7.12"
  }
 },
 "nbformat": 4,
 "nbformat_minor": 2
}
