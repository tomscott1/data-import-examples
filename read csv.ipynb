{
 "cells": [
  {
   "cell_type": "code",
   "execution_count": 1,
   "metadata": {
    "collapsed": true
   },
   "outputs": [],
   "source": [
    "import pandas as pd"
   ]
  },
  {
   "cell_type": "code",
   "execution_count": 12,
   "metadata": {
    "collapsed": false
   },
   "outputs": [],
   "source": [
    "df1 = pd.read_csv('MOITSMachinery.csv', parse_dates=[['ActivityDate', 'EventTime']])#, error_bad_lines=False)\n",
    "df2 = pd.read_csv('MOITSTrucks.csv', parse_dates=[['ActivityDate', 'EventTime']], dayfirst=True)"
   ]
  },
  {
   "cell_type": "code",
   "execution_count": 17,
   "metadata": {
    "collapsed": true
   },
   "outputs": [],
   "source": [
    "df1['Device TimeStamp'] = df1['ActivityDate_EventTime'].astype(str).str.replace(' ','T')\n",
    "df2['Device TimeStamp'] = df2['ActivityDate_EventTime'].astype(str).str.replace(' ','T')"
   ]
  },
  {
   "cell_type": "code",
   "execution_count": 18,
   "metadata": {
    "collapsed": false
   },
   "outputs": [],
   "source": [
    "df1.drop(df1.columns[[ 0, 1, 3, 4, 6, 8, 9, 11, 12, 13, 14]], axis=1, inplace=True)\n",
    "df2.drop(df2.columns[[ 0, 1, 3, 4, 6, 8, 9, 11, 12, 13, 14]], axis=1, inplace=True)"
   ]
  },
  {
   "cell_type": "code",
   "execution_count": 19,
   "metadata": {
    "collapsed": true
   },
   "outputs": [],
   "source": [
    "df1.rename(columns={'Speed': 'Speed_Kms', 'TripDistance': 'Odometer', 'HDOP':'Heading', 'Registration': 'Unique Vehicle Identifier'}, inplace=True)\n",
    "df2.rename(columns={'Speed': 'Speed_Kms', 'TripDistance': 'Odometer', 'HDOP':'Heading', 'Registration': 'Unique Vehicle Identifier'}, inplace=True)"
   ]
  },
  {
   "cell_type": "code",
   "execution_count": null,
   "metadata": {
    "collapsed": false
   },
   "outputs": [],
   "source": []
  },
  {
   "cell_type": "code",
   "execution_count": 20,
   "metadata": {
    "collapsed": true
   },
   "outputs": [],
   "source": [
    "df1[['Speed_Kms', 'Odometer', 'Heading']]=0\n",
    "df2[['Speed_Kms', 'Odometer', 'Heading']]=0"
   ]
  },
  {
   "cell_type": "code",
   "execution_count": 22,
   "metadata": {
    "collapsed": true
   },
   "outputs": [],
   "source": [
    "df1.to_csv('moits-machinery.csv', index=False)\n",
    "df2.to_csv('moits-trucks.csv', index=False)"
   ]
  },
  {
   "cell_type": "code",
   "execution_count": 21,
   "metadata": {
    "collapsed": false
   },
   "outputs": [
    {
     "data": {
      "text/html": [
       "<div>\n",
       "<table border=\"1\" class=\"dataframe\">\n",
       "  <thead>\n",
       "    <tr style=\"text-align: right;\">\n",
       "      <th></th>\n",
       "      <th>Unique Vehicle Identifier</th>\n",
       "      <th>Speed_Kms</th>\n",
       "      <th>Odometer</th>\n",
       "      <th>Heading</th>\n",
       "      <th>Latitude</th>\n",
       "      <th>Longitude</th>\n",
       "      <th>Device TimeStamp</th>\n",
       "    </tr>\n",
       "  </thead>\n",
       "  <tbody>\n",
       "    <tr>\n",
       "      <th>0</th>\n",
       "      <td>BY26FN</td>\n",
       "      <td>0</td>\n",
       "      <td>0</td>\n",
       "      <td>0</td>\n",
       "      <td>-33.62760</td>\n",
       "      <td>150.81775</td>\n",
       "      <td>2016-10-04T05:06:13</td>\n",
       "    </tr>\n",
       "    <tr>\n",
       "      <th>1</th>\n",
       "      <td>BY26FN</td>\n",
       "      <td>0</td>\n",
       "      <td>0</td>\n",
       "      <td>0</td>\n",
       "      <td>-33.62760</td>\n",
       "      <td>150.81777</td>\n",
       "      <td>2016-10-04T05:09:16</td>\n",
       "    </tr>\n",
       "    <tr>\n",
       "      <th>2</th>\n",
       "      <td>BY26FN</td>\n",
       "      <td>0</td>\n",
       "      <td>0</td>\n",
       "      <td>0</td>\n",
       "      <td>-33.62768</td>\n",
       "      <td>150.81776</td>\n",
       "      <td>2016-10-04T06:03:56</td>\n",
       "    </tr>\n",
       "    <tr>\n",
       "      <th>3</th>\n",
       "      <td>BY26FN</td>\n",
       "      <td>0</td>\n",
       "      <td>0</td>\n",
       "      <td>0</td>\n",
       "      <td>-33.61541</td>\n",
       "      <td>150.82249</td>\n",
       "      <td>2016-10-04T06:13:48</td>\n",
       "    </tr>\n",
       "    <tr>\n",
       "      <th>4</th>\n",
       "      <td>BY26FN</td>\n",
       "      <td>0</td>\n",
       "      <td>0</td>\n",
       "      <td>0</td>\n",
       "      <td>-33.63913</td>\n",
       "      <td>150.85084</td>\n",
       "      <td>2016-10-04T06:18:48</td>\n",
       "    </tr>\n",
       "  </tbody>\n",
       "</table>\n",
       "</div>"
      ],
      "text/plain": [
       "  Unique Vehicle Identifier  Speed_Kms  Odometer  Heading  Latitude  \\\n",
       "0                    BY26FN          0         0        0 -33.62760   \n",
       "1                    BY26FN          0         0        0 -33.62760   \n",
       "2                    BY26FN          0         0        0 -33.62768   \n",
       "3                    BY26FN          0         0        0 -33.61541   \n",
       "4                    BY26FN          0         0        0 -33.63913   \n",
       "\n",
       "   Longitude     Device TimeStamp  \n",
       "0  150.81775  2016-10-04T05:06:13  \n",
       "1  150.81777  2016-10-04T05:09:16  \n",
       "2  150.81776  2016-10-04T06:03:56  \n",
       "3  150.82249  2016-10-04T06:13:48  \n",
       "4  150.85084  2016-10-04T06:18:48  "
      ]
     },
     "execution_count": 21,
     "metadata": {},
     "output_type": "execute_result"
    }
   ],
   "source": [
    "df2.head()"
   ]
  },
  {
   "cell_type": "code",
   "execution_count": null,
   "metadata": {
    "collapsed": true
   },
   "outputs": [],
   "source": [
    "output = df1.append([df2, df3, df4], ignore_index=True)"
   ]
  },
  {
   "cell_type": "code",
   "execution_count": 43,
   "metadata": {
    "collapsed": true
   },
   "outputs": [],
   "source": [
    "output.to_csv('goldings.csv', index=False)"
   ]
  },
  {
   "cell_type": "code",
   "execution_count": 34,
   "metadata": {
    "collapsed": true
   },
   "outputs": [],
   "source": [
    "output['Odometer'] = 0\n",
    "output['Heading'] = 0"
   ]
  },
  {
   "cell_type": "code",
   "execution_count": 11,
   "metadata": {
    "collapsed": false
   },
   "outputs": [
    {
     "name": "stdout",
     "output_type": "stream",
     "text": [
      "<class 'pandas.core.frame.DataFrame'>\n",
      "RangeIndex: 281801 entries, 0 to 281800\n",
      "Data columns (total 18 columns):\n",
      "ActivityDate_EventTime    281801 non-null datetime64[ns]\n",
      "Vehicle                   281801 non-null object\n",
      "Registration              281801 non-null object\n",
      "VehicleGroup              281801 non-null object\n",
      "EventType                 281801 non-null object\n",
      "Speed                     3319 non-null float64\n",
      "SpeedUnit                 281801 non-null object\n",
      "TripDistance              14410 non-null float64\n",
      "TripUnit                  281801 non-null object\n",
      "OnSiteTime                20268 non-null object\n",
      "HDOP                      0 non-null float64\n",
      "NumSatellites             0 non-null float64\n",
      "Driver                    281801 non-null object\n",
      "Channel                   0 non-null float64\n",
      "Location                  281801 non-null object\n",
      "Latitude                  281801 non-null float64\n",
      "Longitude                 281801 non-null float64\n",
      "Device TimeStamp          281801 non-null object\n",
      "dtypes: datetime64[ns](1), float64(7), object(10)\n",
      "memory usage: 38.7+ MB\n"
     ]
    }
   ],
   "source": [
    "df1.head()\n",
    "df1.info()"
   ]
  },
  {
   "cell_type": "code",
   "execution_count": 23,
   "metadata": {
    "collapsed": true
   },
   "outputs": [],
   "source": [
    "output['Device Timestamp'] = output['Device Timestamp'].astype(str)"
   ]
  },
  {
   "cell_type": "code",
   "execution_count": 37,
   "metadata": {
    "collapsed": false
   },
   "outputs": [
    {
     "name": "stdout",
     "output_type": "stream",
     "text": [
      "<class 'pandas.core.frame.DataFrame'>\n",
      "RangeIndex: 1260637 entries, 0 to 1260636\n",
      "Data columns (total 7 columns):\n",
      "Device timestamp             1260637 non-null object\n",
      "Heading                      1260637 non-null int64\n",
      "Latitude                     1257292 non-null float64\n",
      "Longitude                    1257292 non-null float64\n",
      "Odometer                     1260637 non-null int64\n",
      "Speed_kms                    56325 non-null float64\n",
      "Unique vehicle identifier    1257292 non-null object\n",
      "dtypes: float64(3), int64(2), object(2)\n",
      "memory usage: 67.3+ MB\n"
     ]
    }
   ],
   "source": [
    "output.info()"
   ]
  },
  {
   "cell_type": "code",
   "execution_count": 41,
   "metadata": {
    "collapsed": false
   },
   "outputs": [],
   "source": [
    "output = output.rename(columns={'Unique vehicle identifier': 'Unique Vehicle Identifier', 'Device timestamp': 'Device Timestamp'})"
   ]
  },
  {
   "cell_type": "code",
   "execution_count": 36,
   "metadata": {
    "collapsed": true
   },
   "outputs": [],
   "source": [
    "output.drop(output.columns[[ 1, 3, 4, 8, 11, 12, 13, 14, 15]], axis=1, inplace=True)"
   ]
  },
  {
   "cell_type": "code",
   "execution_count": 11,
   "metadata": {
    "collapsed": false
   },
   "outputs": [],
   "source": [
    "df = pd.read_csv('diesel fuel rebate 2016 SEP.csv', names=['Unique Vehicle Identifier', 'Device Timestamp', 'Latitude', 'Longitude', 'Speed_Kms', 'Heading', 'Odometer'])"
   ]
  },
  {
   "cell_type": "code",
   "execution_count": 4,
   "metadata": {
    "collapsed": false
   },
   "outputs": [],
   "source": [
    "df2 = pd.read_csv('diesel fuel rebate OCT 2016.csv', names=['Unique Vehicle Identifier', 'Device Timestamp', 'Latitude', 'Longitude', 'Speed_Kms', 'Heading', 'Odometer'])"
   ]
  },
  {
   "cell_type": "code",
   "execution_count": 3,
   "metadata": {
    "collapsed": false
   },
   "outputs": [
    {
     "data": {
      "text/html": [
       "<div>\n",
       "<table border=\"1\" class=\"dataframe\">\n",
       "  <thead>\n",
       "    <tr style=\"text-align: right;\">\n",
       "      <th></th>\n",
       "      <th>Latitude</th>\n",
       "      <th>Longitude</th>\n",
       "      <th>Speed_kms</th>\n",
       "      <th>Header</th>\n",
       "      <th>Ignition_on</th>\n",
       "      <th>Device timestamp</th>\n",
       "      <th>Unique vehicle identifier</th>\n",
       "      <th>Odometer</th>\n",
       "    </tr>\n",
       "  </thead>\n",
       "  <tbody>\n",
       "    <tr>\n",
       "      <th>0</th>\n",
       "      <td>-21.907040</td>\n",
       "      <td>148.368345</td>\n",
       "      <td>45.06</td>\n",
       "      <td>NaN</td>\n",
       "      <td>NaN</td>\n",
       "      <td>2016-11-01T05:00:06</td>\n",
       "      <td>286WIQ</td>\n",
       "      <td>NaN</td>\n",
       "    </tr>\n",
       "    <tr>\n",
       "      <th>1</th>\n",
       "      <td>-21.905526</td>\n",
       "      <td>148.370462</td>\n",
       "      <td>37.01</td>\n",
       "      <td>NaN</td>\n",
       "      <td>NaN</td>\n",
       "      <td>2016-11-01T05:00:35</td>\n",
       "      <td>286WIQ</td>\n",
       "      <td>NaN</td>\n",
       "    </tr>\n",
       "    <tr>\n",
       "      <th>2</th>\n",
       "      <td>-21.914556</td>\n",
       "      <td>148.352376</td>\n",
       "      <td>94.95</td>\n",
       "      <td>NaN</td>\n",
       "      <td>NaN</td>\n",
       "      <td>2016-11-01T05:02:02</td>\n",
       "      <td>286WIQ</td>\n",
       "      <td>NaN</td>\n",
       "    </tr>\n",
       "    <tr>\n",
       "      <th>3</th>\n",
       "      <td>-21.923345</td>\n",
       "      <td>148.332704</td>\n",
       "      <td>96.56</td>\n",
       "      <td>NaN</td>\n",
       "      <td>NaN</td>\n",
       "      <td>2016-11-01T05:03:27</td>\n",
       "      <td>286WIQ</td>\n",
       "      <td>NaN</td>\n",
       "    </tr>\n",
       "    <tr>\n",
       "      <th>4</th>\n",
       "      <td>-21.934352</td>\n",
       "      <td>148.314188</td>\n",
       "      <td>99.78</td>\n",
       "      <td>NaN</td>\n",
       "      <td>NaN</td>\n",
       "      <td>2016-11-01T05:04:51</td>\n",
       "      <td>286WIQ</td>\n",
       "      <td>NaN</td>\n",
       "    </tr>\n",
       "  </tbody>\n",
       "</table>\n",
       "</div>"
      ],
      "text/plain": [
       "    Latitude   Longitude  Speed_kms  Header  Ignition_on     Device timestamp  \\\n",
       "0 -21.907040  148.368345      45.06     NaN          NaN  2016-11-01T05:00:06   \n",
       "1 -21.905526  148.370462      37.01     NaN          NaN  2016-11-01T05:00:35   \n",
       "2 -21.914556  148.352376      94.95     NaN          NaN  2016-11-01T05:02:02   \n",
       "3 -21.923345  148.332704      96.56     NaN          NaN  2016-11-01T05:03:27   \n",
       "4 -21.934352  148.314188      99.78     NaN          NaN  2016-11-01T05:04:51   \n",
       "\n",
       "  Unique vehicle identifier  Odometer  \n",
       "0                    286WIQ       NaN  \n",
       "1                    286WIQ       NaN  \n",
       "2                    286WIQ       NaN  \n",
       "3                    286WIQ       NaN  \n",
       "4                    286WIQ       NaN  "
      ]
     },
     "execution_count": 3,
     "metadata": {},
     "output_type": "execute_result"
    }
   ],
   "source": [
    "df4.head()"
   ]
  },
  {
   "cell_type": "code",
   "execution_count": 26,
   "metadata": {
    "collapsed": false
   },
   "outputs": [
    {
     "name": "stdout",
     "output_type": "stream",
     "text": [
      "<class 'pandas.core.frame.DataFrame'>\n",
      "RangeIndex: 16311030 entries, 0 to 16311029\n",
      "Data columns (total 7 columns):\n",
      "Unique Vehicle Identifier    16311030 non-null object\n",
      "Device Timestamp             16311030 non-null object\n",
      "Latitude                     16311030 non-null float64\n",
      "Longitude                    16311030 non-null float64\n",
      "Speed_Kms                    0 non-null float64\n",
      "Heading                      0 non-null float64\n",
      "Odometer                     0 non-null float64\n",
      "dtypes: float64(5), object(2)\n",
      "memory usage: 871.1+ MB\n"
     ]
    }
   ],
   "source": [
    "df.info(verbose=True, null_counts=True)"
   ]
  },
  {
   "cell_type": "code",
   "execution_count": 8,
   "metadata": {
    "collapsed": true
   },
   "outputs": [],
   "source": [
    "df.rename(columns={'latitude': 'Latitude', 'longitude': 'Longitude'}, inplace=True)"
   ]
  },
  {
   "cell_type": "code",
   "execution_count": 13,
   "metadata": {
    "collapsed": false
   },
   "outputs": [
    {
     "data": {
      "text/html": [
       "<div>\n",
       "<table border=\"1\" class=\"dataframe\">\n",
       "  <thead>\n",
       "    <tr style=\"text-align: right;\">\n",
       "      <th></th>\n",
       "      <th>Latitude</th>\n",
       "      <th>Longitude</th>\n",
       "      <th>Speed_Kms</th>\n",
       "      <th>Heading</th>\n",
       "      <th>Odometer</th>\n",
       "      <th>Device Timestamp</th>\n",
       "      <th>Unique Vehicle Identifier</th>\n",
       "    </tr>\n",
       "  </thead>\n",
       "  <tbody>\n",
       "    <tr>\n",
       "      <th>0</th>\n",
       "      <td>-33.827173</td>\n",
       "      <td>150.855133</td>\n",
       "      <td>0.0</td>\n",
       "      <td>71</td>\n",
       "      <td>NaN</td>\n",
       "      <td>2016/10/01 02:18:12+10</td>\n",
       "      <td>4753</td>\n",
       "    </tr>\n",
       "    <tr>\n",
       "      <th>1</th>\n",
       "      <td>-34.023580</td>\n",
       "      <td>151.106923</td>\n",
       "      <td>0.0</td>\n",
       "      <td>180</td>\n",
       "      <td>NaN</td>\n",
       "      <td>2016/10/01 02:11:34+10</td>\n",
       "      <td>11874</td>\n",
       "    </tr>\n",
       "    <tr>\n",
       "      <th>2</th>\n",
       "      <td>-33.827173</td>\n",
       "      <td>150.855133</td>\n",
       "      <td>0.0</td>\n",
       "      <td>71</td>\n",
       "      <td>NaN</td>\n",
       "      <td>2016/10/01 02:17:28+10</td>\n",
       "      <td>4753</td>\n",
       "    </tr>\n",
       "    <tr>\n",
       "      <th>3</th>\n",
       "      <td>-34.548255</td>\n",
       "      <td>150.787480</td>\n",
       "      <td>0.0</td>\n",
       "      <td>285</td>\n",
       "      <td>NaN</td>\n",
       "      <td>2016/10/01 03:15:18+10</td>\n",
       "      <td>15431</td>\n",
       "    </tr>\n",
       "    <tr>\n",
       "      <th>4</th>\n",
       "      <td>-33.950755</td>\n",
       "      <td>150.992175</td>\n",
       "      <td>0.0</td>\n",
       "      <td>56</td>\n",
       "      <td>NaN</td>\n",
       "      <td>2016/10/01 00:14:13+10</td>\n",
       "      <td>8979</td>\n",
       "    </tr>\n",
       "  </tbody>\n",
       "</table>\n",
       "</div>"
      ],
      "text/plain": [
       "    Latitude   Longitude  Speed_Kms  Heading  Odometer  \\\n",
       "0 -33.827173  150.855133        0.0       71       NaN   \n",
       "1 -34.023580  151.106923        0.0      180       NaN   \n",
       "2 -33.827173  150.855133        0.0       71       NaN   \n",
       "3 -34.548255  150.787480        0.0      285       NaN   \n",
       "4 -33.950755  150.992175        0.0       56       NaN   \n",
       "\n",
       "         Device Timestamp  Unique Vehicle Identifier  \n",
       "0  2016/10/01 02:18:12+10                       4753  \n",
       "1  2016/10/01 02:11:34+10                      11874  \n",
       "2  2016/10/01 02:17:28+10                       4753  \n",
       "3  2016/10/01 03:15:18+10                      15431  \n",
       "4  2016/10/01 00:14:13+10                       8979  "
      ]
     },
     "execution_count": 13,
     "metadata": {},
     "output_type": "execute_result"
    }
   ],
   "source": [
    "df.head()"
   ]
  },
  {
   "cell_type": "code",
   "execution_count": 6,
   "metadata": {
    "collapsed": false
   },
   "outputs": [],
   "source": [
    "df.rename(columns={'device_allocation_id': 'Unique Vehicle Identifier', 'device_timestamp': 'Device Timestamp', 'speed_km': 'Speed_Kms', 'heading': 'Heading',}, inplace=True) #'heading': 'Odometer',  "
   ]
  },
  {
   "cell_type": "code",
   "execution_count": 12,
   "metadata": {
    "collapsed": true
   },
   "outputs": [],
   "source": [
    "df.drop(df.columns[[ 0, 5, 8, 9, 11]], axis=1, inplace=True)"
   ]
  },
  {
   "cell_type": "code",
   "execution_count": 16,
   "metadata": {
    "collapsed": false
   },
   "outputs": [
    {
     "data": {
      "text/html": [
       "<div>\n",
       "<table border=\"1\" class=\"dataframe\">\n",
       "  <thead>\n",
       "    <tr style=\"text-align: right;\">\n",
       "      <th></th>\n",
       "      <th>Unique Vehicle Identifier</th>\n",
       "      <th>Device Timestamp</th>\n",
       "      <th>Latitude</th>\n",
       "      <th>Longitude</th>\n",
       "      <th>Speed_Kms</th>\n",
       "      <th>Heading</th>\n",
       "      <th>Odometer</th>\n",
       "    </tr>\n",
       "  </thead>\n",
       "  <tbody>\n",
       "    <tr>\n",
       "      <th>144688</th>\n",
       "      <td>HITACHI 40T</td>\n",
       "      <td>01/09/2016 4:18:25 PM</td>\n",
       "      <td>-33.915109</td>\n",
       "      <td>151.151094</td>\n",
       "      <td>NaN</td>\n",
       "      <td>North</td>\n",
       "      <td>0.05</td>\n",
       "    </tr>\n",
       "    <tr>\n",
       "      <th>144689</th>\n",
       "      <td>HITACHI 40T</td>\n",
       "      <td>01/09/2016 4:19:55 PM</td>\n",
       "      <td>-33.915101</td>\n",
       "      <td>151.151314</td>\n",
       "      <td>NaN</td>\n",
       "      <td>North</td>\n",
       "      <td>0.05</td>\n",
       "    </tr>\n",
       "    <tr>\n",
       "      <th>144690</th>\n",
       "      <td>HITACHI 40T</td>\n",
       "      <td>01/09/2016 4:21:24 PM</td>\n",
       "      <td>-33.915106</td>\n",
       "      <td>151.151257</td>\n",
       "      <td>NaN</td>\n",
       "      <td>North</td>\n",
       "      <td>0.05</td>\n",
       "    </tr>\n",
       "    <tr>\n",
       "      <th>144691</th>\n",
       "      <td>HITACHI 40T</td>\n",
       "      <td>01/09/2016 4:21:56 PM</td>\n",
       "      <td>-33.915102</td>\n",
       "      <td>151.151253</td>\n",
       "      <td>0.0</td>\n",
       "      <td>North</td>\n",
       "      <td>0.05</td>\n",
       "    </tr>\n",
       "    <tr>\n",
       "      <th>144692</th>\n",
       "      <td>HITACHI 40T</td>\n",
       "      <td>01/09/2016 4:21:56 PM</td>\n",
       "      <td>-33.915102</td>\n",
       "      <td>151.151253</td>\n",
       "      <td>NaN</td>\n",
       "      <td>North</td>\n",
       "      <td>0.05</td>\n",
       "    </tr>\n",
       "  </tbody>\n",
       "</table>\n",
       "</div>"
      ],
      "text/plain": [
       "       Unique Vehicle Identifier       Device Timestamp   Latitude  \\\n",
       "144688               HITACHI 40T  01/09/2016 4:18:25 PM -33.915109   \n",
       "144689               HITACHI 40T  01/09/2016 4:19:55 PM -33.915101   \n",
       "144690               HITACHI 40T  01/09/2016 4:21:24 PM -33.915106   \n",
       "144691               HITACHI 40T  01/09/2016 4:21:56 PM -33.915102   \n",
       "144692               HITACHI 40T  01/09/2016 4:21:56 PM -33.915102   \n",
       "\n",
       "         Longitude  Speed_Kms Heading  Odometer  \n",
       "144688  151.151094        NaN   North      0.05  \n",
       "144689  151.151314        NaN   North      0.05  \n",
       "144690  151.151257        NaN   North      0.05  \n",
       "144691  151.151253        0.0   North      0.05  \n",
       "144692  151.151253        NaN   North      0.05  "
      ]
     },
     "execution_count": 16,
     "metadata": {},
     "output_type": "execute_result"
    }
   ],
   "source": [
    "df.tail()"
   ]
  },
  {
   "cell_type": "code",
   "execution_count": 20,
   "metadata": {
    "collapsed": false
   },
   "outputs": [],
   "source": [
    "output.to_csv('jjrichards-mar-aug.csv', index=False)"
   ]
  },
  {
   "cell_type": "code",
   "execution_count": 10,
   "metadata": {
    "collapsed": true
   },
   "outputs": [],
   "source": [
    "df.rename(columns={'traccar_coordinate_id': 'Odometer'}, inplace=True)"
   ]
  },
  {
   "cell_type": "code",
   "execution_count": 6,
   "metadata": {
    "collapsed": false
   },
   "outputs": [],
   "source": [
    "# Convert timedatestamp to include T\n",
    "df1['Device Timestamp'] = df1['Device Timestamp'].str.replace(' ','T')\n",
    "df2['Device Timestamp'] = df2['Device Timestamp'].str.replace(' ','T')\n",
    "df3['Device Timestamp'] = df3['Device Timestamp'].str.replace(' ','T')\n",
    "df4['Device Timestamp'] = df4['Device Timestamp'].str.replace(' ','T')\n",
    "df5['Device Timestamp'] = df5['Device Timestamp'].str.replace(' ','T')\n",
    "df6['Device Timestamp'] = df6['Device Timestamp'].str.replace(' ','T')"
   ]
  },
  {
   "cell_type": "code",
   "execution_count": 14,
   "metadata": {
    "collapsed": false
   },
   "outputs": [
    {
     "data": {
      "text/html": [
       "<div>\n",
       "<table border=\"1\" class=\"dataframe\">\n",
       "  <thead>\n",
       "    <tr style=\"text-align: right;\">\n",
       "      <th></th>\n",
       "      <th>Unique Vehicle Identifier</th>\n",
       "      <th>Device Timestamp</th>\n",
       "      <th>Latitude</th>\n",
       "      <th>Longitude</th>\n",
       "      <th>Speed_Kms</th>\n",
       "      <th>Heading</th>\n",
       "      <th>Odometer</th>\n",
       "    </tr>\n",
       "  </thead>\n",
       "  <tbody>\n",
       "    <tr>\n",
       "      <th>0</th>\n",
       "      <td>430</td>\n",
       "      <td>2016-09-01T06:31:05.110</td>\n",
       "      <td>-37.643627</td>\n",
       "      <td>144.997550</td>\n",
       "      <td>NaN</td>\n",
       "      <td>NaN</td>\n",
       "      <td>NaN</td>\n",
       "    </tr>\n",
       "    <tr>\n",
       "      <th>1</th>\n",
       "      <td>430</td>\n",
       "      <td>2016-09-01T06:31:28.140</td>\n",
       "      <td>-37.643642</td>\n",
       "      <td>144.997530</td>\n",
       "      <td>NaN</td>\n",
       "      <td>NaN</td>\n",
       "      <td>NaN</td>\n",
       "    </tr>\n",
       "    <tr>\n",
       "      <th>2</th>\n",
       "      <td>430</td>\n",
       "      <td>2016-09-01T06:32:09.953</td>\n",
       "      <td>-37.643478</td>\n",
       "      <td>144.997509</td>\n",
       "      <td>NaN</td>\n",
       "      <td>NaN</td>\n",
       "      <td>NaN</td>\n",
       "    </tr>\n",
       "    <tr>\n",
       "      <th>3</th>\n",
       "      <td>430</td>\n",
       "      <td>2016-09-01T06:34:12.313</td>\n",
       "      <td>-37.643498</td>\n",
       "      <td>144.997692</td>\n",
       "      <td>NaN</td>\n",
       "      <td>NaN</td>\n",
       "      <td>NaN</td>\n",
       "    </tr>\n",
       "    <tr>\n",
       "      <th>4</th>\n",
       "      <td>430</td>\n",
       "      <td>2016-09-01T06:35:09.500</td>\n",
       "      <td>-37.643517</td>\n",
       "      <td>144.997946</td>\n",
       "      <td>NaN</td>\n",
       "      <td>NaN</td>\n",
       "      <td>NaN</td>\n",
       "    </tr>\n",
       "  </tbody>\n",
       "</table>\n",
       "</div>"
      ],
      "text/plain": [
       "  Unique Vehicle Identifier         Device Timestamp   Latitude   Longitude  \\\n",
       "0                       430  2016-09-01T06:31:05.110 -37.643627  144.997550   \n",
       "1                       430  2016-09-01T06:31:28.140 -37.643642  144.997530   \n",
       "2                       430  2016-09-01T06:32:09.953 -37.643478  144.997509   \n",
       "3                       430  2016-09-01T06:34:12.313 -37.643498  144.997692   \n",
       "4                       430  2016-09-01T06:35:09.500 -37.643517  144.997946   \n",
       "\n",
       "   Speed_Kms  Heading  Odometer  \n",
       "0        NaN      NaN       NaN  \n",
       "1        NaN      NaN       NaN  \n",
       "2        NaN      NaN       NaN  \n",
       "3        NaN      NaN       NaN  \n",
       "4        NaN      NaN       NaN  "
      ]
     },
     "execution_count": 14,
     "metadata": {},
     "output_type": "execute_result"
    }
   ],
   "source": [
    "df.head()"
   ]
  },
  {
   "cell_type": "code",
   "execution_count": 11,
   "metadata": {
    "collapsed": true
   },
   "outputs": [],
   "source": [
    "output = output_4.append(df6, ignore_index=True)"
   ]
  },
  {
   "cell_type": "code",
   "execution_count": 12,
   "metadata": {
    "collapsed": false
   },
   "outputs": [
    {
     "data": {
      "text/html": [
       "<div>\n",
       "<table border=\"1\" class=\"dataframe\">\n",
       "  <thead>\n",
       "    <tr style=\"text-align: right;\">\n",
       "      <th></th>\n",
       "      <th>Unique Vehicle Identifier</th>\n",
       "      <th>Device Timestamp</th>\n",
       "      <th>Latitude</th>\n",
       "      <th>Longitude</th>\n",
       "      <th>Speed_Kms</th>\n",
       "      <th>Heading</th>\n",
       "      <th>Odometer</th>\n",
       "    </tr>\n",
       "  </thead>\n",
       "  <tbody>\n",
       "    <tr>\n",
       "      <th>0</th>\n",
       "      <td>430</td>\n",
       "      <td>2016-03-05T14:24:04.563</td>\n",
       "      <td>-37.637660</td>\n",
       "      <td>144.963406</td>\n",
       "      <td>AppShutdown</td>\n",
       "      <td>NaN</td>\n",
       "      <td>NaN</td>\n",
       "    </tr>\n",
       "    <tr>\n",
       "      <th>1</th>\n",
       "      <td>430</td>\n",
       "      <td>2016-03-05T15:13:03.657</td>\n",
       "      <td>-37.637321</td>\n",
       "      <td>144.963545</td>\n",
       "      <td>DialUpGain</td>\n",
       "      <td>NaN</td>\n",
       "      <td>NaN</td>\n",
       "    </tr>\n",
       "    <tr>\n",
       "      <th>2</th>\n",
       "      <td>430</td>\n",
       "      <td>2016-03-05T15:29:12.843</td>\n",
       "      <td>-37.637297</td>\n",
       "      <td>144.963593</td>\n",
       "      <td>DialUpLoss</td>\n",
       "      <td>NaN</td>\n",
       "      <td>NaN</td>\n",
       "    </tr>\n",
       "    <tr>\n",
       "      <th>3</th>\n",
       "      <td>430</td>\n",
       "      <td>2016-03-05T15:29:13.140</td>\n",
       "      <td>-37.637297</td>\n",
       "      <td>144.963593</td>\n",
       "      <td>DialUpLoss</td>\n",
       "      <td>NaN</td>\n",
       "      <td>NaN</td>\n",
       "    </tr>\n",
       "    <tr>\n",
       "      <th>4</th>\n",
       "      <td>430</td>\n",
       "      <td>2016-03-05T15:29:22.423</td>\n",
       "      <td>-37.637293</td>\n",
       "      <td>144.963602</td>\n",
       "      <td>DialUpGain</td>\n",
       "      <td>NaN</td>\n",
       "      <td>NaN</td>\n",
       "    </tr>\n",
       "  </tbody>\n",
       "</table>\n",
       "</div>"
      ],
      "text/plain": [
       "  Unique Vehicle Identifier         Device Timestamp   Latitude   Longitude  \\\n",
       "0                       430  2016-03-05T14:24:04.563 -37.637660  144.963406   \n",
       "1                       430  2016-03-05T15:13:03.657 -37.637321  144.963545   \n",
       "2                       430  2016-03-05T15:29:12.843 -37.637297  144.963593   \n",
       "3                       430  2016-03-05T15:29:13.140 -37.637297  144.963593   \n",
       "4                       430  2016-03-05T15:29:22.423 -37.637293  144.963602   \n",
       "\n",
       "     Speed_Kms  Heading  Odometer  \n",
       "0  AppShutdown      NaN       NaN  \n",
       "1   DialUpGain      NaN       NaN  \n",
       "2   DialUpLoss      NaN       NaN  \n",
       "3   DialUpLoss      NaN       NaN  \n",
       "4   DialUpGain      NaN       NaN  "
      ]
     },
     "execution_count": 12,
     "metadata": {},
     "output_type": "execute_result"
    }
   ],
   "source": [
    "output.head()"
   ]
  },
  {
   "cell_type": "code",
   "execution_count": 13,
   "metadata": {
    "collapsed": false
   },
   "outputs": [
    {
     "name": "stdout",
     "output_type": "stream",
     "text": [
      "<class 'pandas.core.frame.DataFrame'>\n",
      "RangeIndex: 6831819 entries, 0 to 6831818\n",
      "Data columns (total 7 columns):\n",
      "Unique Vehicle Identifier    object\n",
      "Device Timestamp             object\n",
      "Latitude                     float64\n",
      "Longitude                    float64\n",
      "Speed_Kms                    object\n",
      "Heading                      float64\n",
      "Odometer                     float64\n",
      "dtypes: float64(4), object(3)\n",
      "memory usage: 364.9+ MB\n"
     ]
    }
   ],
   "source": [
    "output.info()"
   ]
  },
  {
   "cell_type": "code",
   "execution_count": 23,
   "metadata": {
    "collapsed": false
   },
   "outputs": [
    {
     "data": {
      "text/plain": [
       "159"
      ]
     },
     "execution_count": 23,
     "metadata": {},
     "output_type": "execute_result"
    }
   ],
   "source": [
    "output['Unique Vehicle Identifier'].nunique()"
   ]
  },
  {
   "cell_type": "code",
   "execution_count": 18,
   "metadata": {
    "collapsed": true
   },
   "outputs": [],
   "source": [
    "output['Odometer'] = 0"
   ]
  },
  {
   "cell_type": "code",
   "execution_count": 19,
   "metadata": {
    "collapsed": false
   },
   "outputs": [
    {
     "data": {
      "text/html": [
       "<div>\n",
       "<table border=\"1\" class=\"dataframe\">\n",
       "  <thead>\n",
       "    <tr style=\"text-align: right;\">\n",
       "      <th></th>\n",
       "      <th>Unique Vehicle Identifier</th>\n",
       "      <th>Device Timestamp</th>\n",
       "      <th>Latitude</th>\n",
       "      <th>Longitude</th>\n",
       "      <th>Speed_Kms</th>\n",
       "      <th>Heading</th>\n",
       "      <th>Odometer</th>\n",
       "    </tr>\n",
       "  </thead>\n",
       "  <tbody>\n",
       "    <tr>\n",
       "      <th>0</th>\n",
       "      <td>430</td>\n",
       "      <td>2016-03-05T14:24:04.563</td>\n",
       "      <td>-37.637660</td>\n",
       "      <td>144.963406</td>\n",
       "      <td>0</td>\n",
       "      <td>0</td>\n",
       "      <td>0</td>\n",
       "    </tr>\n",
       "    <tr>\n",
       "      <th>1</th>\n",
       "      <td>430</td>\n",
       "      <td>2016-03-05T15:13:03.657</td>\n",
       "      <td>-37.637321</td>\n",
       "      <td>144.963545</td>\n",
       "      <td>0</td>\n",
       "      <td>0</td>\n",
       "      <td>0</td>\n",
       "    </tr>\n",
       "    <tr>\n",
       "      <th>2</th>\n",
       "      <td>430</td>\n",
       "      <td>2016-03-05T15:29:12.843</td>\n",
       "      <td>-37.637297</td>\n",
       "      <td>144.963593</td>\n",
       "      <td>0</td>\n",
       "      <td>0</td>\n",
       "      <td>0</td>\n",
       "    </tr>\n",
       "    <tr>\n",
       "      <th>3</th>\n",
       "      <td>430</td>\n",
       "      <td>2016-03-05T15:29:13.140</td>\n",
       "      <td>-37.637297</td>\n",
       "      <td>144.963593</td>\n",
       "      <td>0</td>\n",
       "      <td>0</td>\n",
       "      <td>0</td>\n",
       "    </tr>\n",
       "    <tr>\n",
       "      <th>4</th>\n",
       "      <td>430</td>\n",
       "      <td>2016-03-05T15:29:22.423</td>\n",
       "      <td>-37.637293</td>\n",
       "      <td>144.963602</td>\n",
       "      <td>0</td>\n",
       "      <td>0</td>\n",
       "      <td>0</td>\n",
       "    </tr>\n",
       "  </tbody>\n",
       "</table>\n",
       "</div>"
      ],
      "text/plain": [
       "  Unique Vehicle Identifier         Device Timestamp   Latitude   Longitude  \\\n",
       "0                       430  2016-03-05T14:24:04.563 -37.637660  144.963406   \n",
       "1                       430  2016-03-05T15:13:03.657 -37.637321  144.963545   \n",
       "2                       430  2016-03-05T15:29:12.843 -37.637297  144.963593   \n",
       "3                       430  2016-03-05T15:29:13.140 -37.637297  144.963593   \n",
       "4                       430  2016-03-05T15:29:22.423 -37.637293  144.963602   \n",
       "\n",
       "   Speed_Kms  Heading  Odometer  \n",
       "0          0        0         0  \n",
       "1          0        0         0  \n",
       "2          0        0         0  \n",
       "3          0        0         0  \n",
       "4          0        0         0  "
      ]
     },
     "execution_count": 19,
     "metadata": {},
     "output_type": "execute_result"
    }
   ],
   "source": [
    "output.head()"
   ]
  },
  {
   "cell_type": "code",
   "execution_count": null,
   "metadata": {
    "collapsed": true
   },
   "outputs": [],
   "source": []
  }
 ],
 "metadata": {
  "kernelspec": {
   "display_name": "Python 2",
   "language": "python",
   "name": "python2"
  },
  "language_info": {
   "codemirror_mode": {
    "name": "ipython",
    "version": 2
   },
   "file_extension": ".py",
   "mimetype": "text/x-python",
   "name": "python",
   "nbconvert_exporter": "python",
   "pygments_lexer": "ipython2",
   "version": "2.7.12"
  }
 },
 "nbformat": 4,
 "nbformat_minor": 2
}
