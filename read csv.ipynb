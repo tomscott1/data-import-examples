{
 "cells": [
  {
   "cell_type": "code",
   "execution_count": 1,
   "metadata": {
    "collapsed": true
   },
   "outputs": [],
   "source": [
    "import pandas as pd"
   ]
  },
  {
   "cell_type": "code",
   "execution_count": 12,
   "metadata": {
    "collapsed": false
   },
   "outputs": [],
   "source": [
    "df1 = pd.read_csv('MOITSMachinery.csv', parse_dates=[['ActivityDate', 'EventTime']])#, error_bad_lines=False)\n",
    "df2 = pd.read_csv('MOITSTrucks.csv', parse_dates=[['ActivityDate', 'EventTime']], dayfirst=True)"
   ]
  },
  {
   "cell_type": "code",
   "execution_count": 17,
   "metadata": {
    "collapsed": true
   },
   "outputs": [],
   "source": [
    "df1['Device TimeStamp'] = df1['ActivityDate_EventTime'].astype(str).str.replace(' ','T')\n",
    "df2['Device TimeStamp'] = df2['ActivityDate_EventTime'].astype(str).str.replace(' ','T')"
   ]
  },
  {
   "cell_type": "code",
   "execution_count": 18,
   "metadata": {
    "collapsed": false
   },
   "outputs": [],
   "source": [
    "df1.drop(df1.columns[[ 0, 1, 3, 4, 6, 8, 9, 11, 12, 13, 14]], axis=1, inplace=True)\n",
    "df2.drop(df2.columns[[ 0, 1, 3, 4, 6, 8, 9, 11, 12, 13, 14]], axis=1, inplace=True)"
   ]
  },
  {
   "cell_type": "code",
   "execution_count": 19,
   "metadata": {
    "collapsed": true
   },
   "outputs": [],
   "source": [
    "df1.rename(columns={'Speed': 'Speed_Kms', 'TripDistance': 'Odometer', 'HDOP':'Heading', 'Registration': 'Unique Vehicle Identifier'}, inplace=True)\n",
    "df2.rename(columns={'Speed': 'Speed_Kms', 'TripDistance': 'Odometer', 'HDOP':'Heading', 'Registration': 'Unique Vehicle Identifier'}, inplace=True)"
   ]
  },
  {
   "cell_type": "code",
   "execution_count": null,
   "metadata": {
    "collapsed": false
   },
   "outputs": [],
   "source": []
  },
  {
   "cell_type": "code",
   "execution_count": 20,
   "metadata": {
    "collapsed": true
   },
   "outputs": [],
   "source": [
    "df1[['Speed_Kms', 'Odometer', 'Heading']]=0\n",
    "df2[['Speed_Kms', 'Odometer', 'Heading']]=0"
   ]
  },
  {
   "cell_type": "code",
   "execution_count": 22,
   "metadata": {
    "collapsed": true
   },
   "outputs": [],
   "source": [
    "df1.to_csv('moits-machinery.csv', index=False)\n",
    "df2.to_csv('moits-trucks.csv', index=False)"
   ]
  },
  {
   "cell_type": "code",
   "execution_count": null,
   "metadata": {
    "collapsed": true
   },
   "outputs": [],
   "source": [
    "output = df1.append([df2, df3, df4], ignore_index=True)"
   ]
  },
  {
   "cell_type": "code",
   "execution_count": 43,
   "metadata": {
    "collapsed": true
   },
   "outputs": [],
   "source": [
    "output.to_csv('goldings.csv', index=False)"
   ]
  },
  {
   "cell_type": "code",
   "execution_count": 34,
   "metadata": {
    "collapsed": true
   },
   "outputs": [],
   "source": [
    "output['Odometer'] = 0\n",
    "output['Heading'] = 0"
   ]
  },
  {
   "cell_type": "code",
   "execution_count": 23,
   "metadata": {
    "collapsed": true
   },
   "outputs": [],
   "source": [
    "output['Device Timestamp'] = output['Device Timestamp'].astype(str)"
   ]
  },
  {
   "cell_type": "code",
   "execution_count": 41,
   "metadata": {
    "collapsed": false
   },
   "outputs": [],
   "source": [
    "output = output.rename(columns={'Unique vehicle identifier': 'Unique Vehicle Identifier', 'Device timestamp': 'Device Timestamp'})"
   ]
  },
  {
   "cell_type": "code",
   "execution_count": 36,
   "metadata": {
    "collapsed": true
   },
   "outputs": [],
   "source": [
    "output.drop(output.columns[[ 1, 3, 4, 8, 11, 12, 13, 14, 15]], axis=1, inplace=True)"
   ]
  },
  {
   "cell_type": "code",
   "execution_count": 11,
   "metadata": {
    "collapsed": false
   },
   "outputs": [],
   "source": [
    "df = pd.read_csv('diesel fuel rebate 2016 SEP.csv', names=['Unique Vehicle Identifier', 'Device Timestamp', 'Latitude', 'Longitude', 'Speed_Kms', 'Heading', 'Odometer'])"
   ]
  },
  {
   "cell_type": "code",
   "execution_count": 4,
   "metadata": {
    "collapsed": false
   },
   "outputs": [],
   "source": [
    "df2 = pd.read_csv('diesel fuel rebate OCT 2016.csv', names=['Unique Vehicle Identifier', 'Device Timestamp', 'Latitude', 'Longitude', 'Speed_Kms', 'Heading', 'Odometer'])"
   ]
  },
  {
   "cell_type": "code",
   "execution_count": 8,
   "metadata": {
    "collapsed": true
   },
   "outputs": [],
   "source": [
    "df.rename(columns={'latitude': 'Latitude', 'longitude': 'Longitude'}, inplace=True)"
   ]
  },
  {
   "cell_type": "code",
   "execution_count": 6,
   "metadata": {
    "collapsed": false
   },
   "outputs": [],
   "source": [
    "df.rename(columns={'device_allocation_id': 'Unique Vehicle Identifier', 'device_timestamp': 'Device Timestamp', 'speed_km': 'Speed_Kms', 'heading': 'Heading',}, inplace=True) #'heading': 'Odometer',  "
   ]
  },
  {
   "cell_type": "code",
   "execution_count": 12,
   "metadata": {
    "collapsed": true
   },
   "outputs": [],
   "source": [
    "df.drop(df.columns[[ 0, 5, 8, 9, 11]], axis=1, inplace=True)"
   ]
  },
  {
   "cell_type": "code",
   "execution_count": 20,
   "metadata": {
    "collapsed": false
   },
   "outputs": [],
   "source": [
    "output.to_csv('jjrichards-mar-aug.csv', index=False)"
   ]
  },
  {
   "cell_type": "code",
   "execution_count": 10,
   "metadata": {
    "collapsed": true
   },
   "outputs": [],
   "source": [
    "df.rename(columns={'traccar_coordinate_id': 'Odometer'}, inplace=True)"
   ]
  },
  {
   "cell_type": "code",
   "execution_count": 6,
   "metadata": {
    "collapsed": false
   },
   "outputs": [],
   "source": [
    "# Convert timedatestamp to include T\n",
    "df1['Device Timestamp'] = df1['Device Timestamp'].str.replace(' ','T')\n",
    "df2['Device Timestamp'] = df2['Device Timestamp'].str.replace(' ','T')\n",
    "df3['Device Timestamp'] = df3['Device Timestamp'].str.replace(' ','T')\n",
    "df4['Device Timestamp'] = df4['Device Timestamp'].str.replace(' ','T')\n",
    "df5['Device Timestamp'] = df5['Device Timestamp'].str.replace(' ','T')\n",
    "df6['Device Timestamp'] = df6['Device Timestamp'].str.replace(' ','T')"
   ]
  },
  {
   "cell_type": "code",
   "execution_count": 11,
   "metadata": {
    "collapsed": true
   },
   "outputs": [],
   "source": [
    "output = output_4.append(df6, ignore_index=True)"
   ]
  },
  {
   "cell_type": "code",
   "execution_count": 23,
   "metadata": {
    "collapsed": false
   },
   "outputs": [
    {
     "data": {
      "text/plain": [
       "159"
      ]
     },
     "execution_count": 23,
     "metadata": {},
     "output_type": "execute_result"
    }
   ],
   "source": [
    "output['Unique Vehicle Identifier'].nunique()"
   ]
  },
  {
   "cell_type": "code",
   "execution_count": 18,
   "metadata": {
    "collapsed": true
   },
   "outputs": [],
   "source": [
    "output['Odometer'] = 0"
   ]
  },
  {
   "cell_type": "code",
   "execution_count": null,
   "metadata": {
    "collapsed": true
   },
   "outputs": [],
   "source": []
  }
 ],
 "metadata": {
  "kernelspec": {
   "display_name": "Python 2",
   "language": "python",
   "name": "python2"
  },
  "language_info": {
   "codemirror_mode": {
    "name": "ipython",
    "version": 2
   },
   "file_extension": ".py",
   "mimetype": "text/x-python",
   "name": "python",
   "nbconvert_exporter": "python",
   "pygments_lexer": "ipython2",
   "version": "2.7.12"
  }
 },
 "nbformat": 4,
 "nbformat_minor": 2
}
